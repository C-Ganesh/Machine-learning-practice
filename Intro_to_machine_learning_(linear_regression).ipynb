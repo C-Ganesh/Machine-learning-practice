{
  "nbformat": 4,
  "nbformat_minor": 0,
  "metadata": {
    "colab": {
      "provenance": [],
      "include_colab_link": true
    },
    "kernelspec": {
      "name": "python3",
      "display_name": "Python 3"
    },
    "language_info": {
      "name": "python"
    }
  },
  "cells": [
    {
      "cell_type": "markdown",
      "metadata": {
        "id": "view-in-github",
        "colab_type": "text"
      },
      "source": [
        "<a href=\"https://colab.research.google.com/github/C-Ganesh/Machine-learning-practice/blob/main/Intro_to_machine_learning_(linear_regression).ipynb\" target=\"_parent\"><img src=\"https://colab.research.google.com/assets/colab-badge.svg\" alt=\"Open In Colab\"/></a>"
      ]
    },
    {
      "cell_type": "code",
      "execution_count": 1,
      "metadata": {
        "id": "GCotPGml8A9P"
      },
      "outputs": [],
      "source": [
        "import numpy as np\n",
        "import matplotlib.pyplot as plt\n",
        "import pandas as pd"
      ]
    },
    {
      "cell_type": "code",
      "source": [
        "np.random.seed(100)\n",
        "# to create similar random numbers\n",
        "\n",
        "X = 3*np.random.rand(100,1)\n",
        "\n",
        "y = 9+ 2*X+ np.random.rand(100,1)\n",
        "\n",
        "plt.figure(figsize=(10,8))\n",
        "plt.xlabel(\"Brigtness of the star\")\n",
        "plt.ylabel(\"size of thr star\")\n",
        "plt.title(\"Brightness VS size\")\n",
        "plt.scatter(X,y)\n",
        "plt.show()"
      ],
      "metadata": {
        "colab": {
          "base_uri": "https://localhost:8080/",
          "height": 513
        },
        "id": "0wvScIGK8mDI",
        "outputId": "ea8a579c-b213-4a3d-fbf1-5cb01e2e1ef0"
      },
      "execution_count": 2,
      "outputs": [
        {
          "output_type": "display_data",
          "data": {
            "text/plain": [
              "<Figure size 720x576 with 1 Axes>"
            ],
            "image/png": "[encoded data removed]"
          },
          "metadata": {
            "needs_background": "light"
          }
        }
      ]
    },
    {
      "cell_type": "code",
      "source": [
        "# we got Slope which is also called as Gradient and which is denoted by m and in ML world it is also known as W\n",
        "# we got Intercept which is also called as Baises and which is denoted by c and in ML world it is denoted by b \n",
        "\n",
        "# Parameters\n",
        "W = np.zeros(1)\n",
        "b = 0\n",
        "\n",
        "# HyperParameters\n",
        "# these control how the training process goes on\n",
        "epochs = 200\n",
        "learning_rate = 0.1\n",
        "\n",
        "# we are going to optimize parameters and not hyperparameters\n"
      ],
      "metadata": {
        "id": "PHp39I4e9G9f"
      },
      "execution_count": 3,
      "outputs": []
    },
    {
      "cell_type": "code",
      "source": [
        "# Forward Propagation\n",
        "\n",
        "# Predicted Output\n",
        "def Predict(X,W,b):\n",
        "  return W*X + b\n",
        "\n",
        "# Mean Squared Error\n",
        "def Cost_function(X,y,W,b):\n",
        "  total_error = 0\n",
        "  for i in range(len(X)):\n",
        "    total_error += (y[i]-Predict(X[i],W,b))**2\n",
        "  return total_error/len(X)\n"
      ],
      "metadata": {
        "id": "vkLSVBEh_t8B"
      },
      "execution_count": 4,
      "outputs": []
    },
    {
      "cell_type": "code",
      "source": [
        "# Backward Propagation\n",
        "\n",
        "def update_weights(X,y,W,b,learning_rate):\n",
        "  dW = 0\n",
        "  db = 0\n",
        "  n = len(X)\n",
        "  \n",
        "  for i in range(n):\n",
        "    dW += -2 * X[i] * (y[i]- Predict(X[i],W,b)) # partial derivative with respect to W\n",
        "    db += -2 * (y[i]- Predict(X[i],W,b)) # partial derivative with respective to b\n",
        "\n",
        "  # Gradient Descent to update W and b\n",
        "  W -= (dW / n) * learning_rate\n",
        "  b -= (db / n) * learning_rate\n",
        "\n",
        "  return W,b\n"
      ],
      "metadata": {
        "id": "RUA3KXA2CsLo"
      },
      "execution_count": 5,
      "outputs": []
    },
    {
      "cell_type": "code",
      "source": [
        "# Training Process\n",
        "def train(X,y,W,b,learning_rate,epochs,verbose = False):\n",
        "  weights = np.zeros(epochs)\n",
        "  baises = np.zeros(epochs)\n",
        "  costs = []\n",
        "\n",
        "  for i in range(epochs):\n",
        "    cost = Cost_function(X,y,W,b)\n",
        "    costs.append(cost)\n",
        "    W,b = update_weights(X,y,W,b,learning_rate)\n",
        "    weights[i] = W\n",
        "    baises[i] = b\n",
        "\n",
        "    if verbose:\n",
        "      if i%10 == 0:\n",
        "        print(i, W, b, cost)\n",
        "  return weights, baises, costs"
      ],
      "metadata": {
        "id": "LnxU5DZWEJ76"
      },
      "execution_count": 6,
      "outputs": []
    },
    {
      "cell_type": "code",
      "source": [
        "weights, baises, costs = train(X,y,W,b,learning_rate,epochs,verbose = True)"
      ],
      "metadata": {
        "colab": {
          "base_uri": "https://localhost:8080/"
        },
        "id": "Crg_fAXtKGud",
        "outputId": "054204f6-1003-451c-d1f3-6a846153dec0"
      },
      "execution_count": 7,
      "outputs": [
        {
          "output_type": "stream",
          "name": "stdout",
          "text": [
            "0 [3.79968485] [2.47068314] [155.64746471]\n",
            "10 [4.20770098] [5.54148481] [4.93518776]\n",
            "20 [3.42480131] [6.94968526] [2.12131486]\n",
            "30 [2.91731858] [7.86248324] [0.93901619]\n",
            "40 [2.5883665] [8.45416207] [0.4422524]\n",
            "50 [2.37513862] [8.83769035] [0.23352827]\n",
            "60 [2.23692356] [9.08629472] [0.14582912]\n",
            "70 [2.14733208] [9.24744094] [0.10898077]\n",
            "80 [2.08925856] [9.35189649] [0.09349828]\n",
            "90 [2.05161511] [9.41960493] [0.08699303]\n",
            "100 [2.02721449] [9.46349378] [0.08425974]\n",
            "110 [2.01139793] [9.49194269] [0.0831113]\n",
            "120 [2.00114558] [9.51038337] [0.08262876]\n",
            "130 [1.99449996] [9.52233668] [0.08242601]\n",
            "140 [1.99019226] [9.53008486] [0.08234082]\n",
            "150 [1.98739999] [9.53510726] [0.08230503]\n",
            "160 [1.98559003] [9.5383628] [0.08228999]\n",
            "170 [1.9844168] [9.54047305] [0.08228367]\n",
            "180 [1.98365632] [9.54184092] [0.08228102]\n",
            "190 [1.98316337] [9.54272757] [0.0822799]\n"
          ]
        }
      ]
    },
    {
      "cell_type": "code",
      "source": [
        "W = weights[-1]\n",
        "b = baises[-1]\n",
        "cost = costs[-1][0]\n",
        "\n",
        "W,b,cost"
      ],
      "metadata": {
        "colab": {
          "base_uri": "https://localhost:8080/"
        },
        "id": "1ReC30u4Mda-",
        "outputId": "36f3cd21-e25f-466d-dc3f-eb3c5b3b81bd"
      },
      "execution_count": 8,
      "outputs": [
        {
          "output_type": "execute_result",
          "data": {
            "text/plain": [
              "(1.982869920359039, 9.543255388163416, 0.08227946419699117)"
            ]
          },
          "metadata": {},
          "execution_count": 8
        }
      ]
    },
    {
      "cell_type": "code",
      "source": [
        "plt.figure(figsize=(8,5))\n",
        "plt.plot(range(epochs),costs)\n",
        "plt.show()"
      ],
      "metadata": {
        "colab": {
          "base_uri": "https://localhost:8080/",
          "height": 320
        },
        "id": "dcWbiWA6MzkJ",
        "outputId": "d58457c1-bbbe-42be-cfcf-d038b666e80e"
      },
      "execution_count": 9,
      "outputs": [
        {
          "output_type": "display_data",
          "data": {
            "text/plain": [
              "<Figure size 576x360 with 1 Axes>"
            ],
            "image/png": "[encoded data removed]"
          },
          "metadata": {
            "needs_background": "light"
          }
        }
      ]
    },
    {
      "cell_type": "code",
      "source": [
        "X_test = 3*np.random.rand(10,1)\n",
        "\n",
        "y_test = 9+ 2*X_test + np.random.rand(10,1)\n",
        "y_test"
      ],
      "metadata": {
        "colab": {
          "base_uri": "https://localhost:8080/"
        },
        "id": "T2evcIBQNTbv",
        "outputId": "d95e197a-0198-4b16-87f0-89ad83cc3a93"
      },
      "execution_count": 10,
      "outputs": [
        {
          "output_type": "execute_result",
          "data": {
            "text/plain": [
              "array([[12.45492127],\n",
              "       [13.98411993],\n",
              "       [11.84341387],\n",
              "       [14.74491887],\n",
              "       [14.51277273],\n",
              "       [10.01359219],\n",
              "       [11.70426659],\n",
              "       [15.43176328],\n",
              "       [ 9.70662849],\n",
              "       [12.27362634]])"
            ]
          },
          "metadata": {},
          "execution_count": 10
        }
      ]
    },
    {
      "cell_type": "code",
      "source": [
        "prediction = Predict(X_test, W,b)\n",
        "prediction"
      ],
      "metadata": {
        "colab": {
          "base_uri": "https://localhost:8080/"
        },
        "id": "q1EcYfX-N43N",
        "outputId": "53162800-b160-4333-af2c-85e6b0aaa337"
      },
      "execution_count": 11,
      "outputs": [
        {
          "output_type": "execute_result",
          "data": {
            "text/plain": [
              "array([[12.02436541],\n",
              "       [13.68105497],\n",
              "       [12.07050581],\n",
              "       [14.64784205],\n",
              "       [14.5813262 ],\n",
              "       [ 9.96084252],\n",
              "       [11.33826274],\n",
              "       [15.37065438],\n",
              "       [ 9.75518649],\n",
              "       [12.47230709]])"
            ]
          },
          "metadata": {},
          "execution_count": 11
        }
      ]
    },
    {
      "cell_type": "code",
      "source": [
        "rmse = np.sqrt((y_test-prediction)**2).mean()\n",
        "rmse"
      ],
      "metadata": {
        "colab": {
          "base_uri": "https://localhost:8080/"
        },
        "id": "7OXDcyxeONT9",
        "outputId": "13802551-0eec-4e6e-c17b-08080d81b1f9"
      },
      "execution_count": 12,
      "outputs": [
        {
          "output_type": "execute_result",
          "data": {
            "text/plain": [
              "0.18534442235788137"
            ]
          },
          "metadata": {},
          "execution_count": 12
        }
      ]
    },
    {
      "cell_type": "code",
      "source": [
        "acc = float(sum(np.round(prediction) == np.round(y_test)))/float(len(y_test))\n",
        "\n",
        "acc"
      ],
      "metadata": {
        "colab": {
          "base_uri": "https://localhost:8080/"
        },
        "id": "XD-QOL1nOqS4",
        "outputId": "6e77e2e9-b6bb-42dd-a151-48f53fba5734"
      },
      "execution_count": 13,
      "outputs": [
        {
          "output_type": "execute_result",
          "data": {
            "text/plain": [
              "0.9"
            ]
          },
          "metadata": {},
          "execution_count": 13
        }
      ]
    },
    {
      "cell_type": "code",
      "source": [
        "plt.figure(figsize=(8,5))\n",
        "plt.scatter(X_test, y_test, color='blue')\n",
        "plt.plot(X_test, prediction, color='k')\n",
        "plt.show()"
      ],
      "metadata": {
        "colab": {
          "base_uri": "https://localhost:8080/",
          "height": 320
        },
        "id": "DY_NXxKYPWlU",
        "outputId": "bb482a02-5ab8-4198-e282-8976bdc5628c"
      },
      "execution_count": 14,
      "outputs": [
        {
          "output_type": "display_data",
          "data": {
            "text/plain": [
              "<Figure size 576x360 with 1 Axes>"
            ],
            "image/png": "[encoded data removed]"
          },
          "metadata": {
            "needs_background": "light"
          }
        }
      ]
    },
    {
      "cell_type": "code",
      "source": [],
      "metadata": {
        "id": "72TihFbaP3C0"
      },
      "execution_count": 14,
      "outputs": []
    }
  ]
}